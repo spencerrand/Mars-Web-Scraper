{
 "cells": [
  {
   "cell_type": "code",
   "execution_count": null,
   "metadata": {
    "collapsed": true
   },
   "outputs": [],
   "source": [
    "# Dependencies\n",
    "from bs4 import BeautifulSoup\n",
    "import requests\n",
    "from splinter import Browser\n",
    "import pandas as pd"
   ]
  },
  {
   "cell_type": "markdown",
   "metadata": {},
   "source": [
    "<h1>NASA Mars News"
   ]
  },
  {
   "cell_type": "code",
   "execution_count": null,
   "metadata": {
    "collapsed": true
   },
   "outputs": [],
   "source": [
    "# URL of page to be scraped\n",
    "mars_news_url = 'https://mars.nasa.gov/news/'\n",
    "\n",
    "# Path for Chromedriver\n",
    "executable_path = {'executable_path': 'chromedriver.exe'}\n",
    "\n",
    "# Launch Chrome browser\n",
    "browser = Browser('chrome', **executable_path, headless=False)"
   ]
  },
  {
   "cell_type": "code",
   "execution_count": null,
   "metadata": {
    "collapsed": true
   },
   "outputs": [],
   "source": [
    "# Go to url for news about mars\n",
    "browser.visit(mars_news_url)"
   ]
  },
  {
   "cell_type": "code",
   "execution_count": null,
   "metadata": {
    "collapsed": true
   },
   "outputs": [],
   "source": [
    "# Get HTML from browser\n",
    "html = browser.html\n",
    "\n",
    "# Turn HTML into BeautifulSoup object\n",
    "soup = BeautifulSoup(html, 'html.parser')"
   ]
  },
  {
   "cell_type": "code",
   "execution_count": null,
   "metadata": {},
   "outputs": [],
   "source": [
    "# Pretty print soup results\n",
    "#print(soup.prettify())"
   ]
  },
  {
   "cell_type": "code",
   "execution_count": null,
   "metadata": {},
   "outputs": [],
   "source": [
    "# Retrieve the parent item for all news items\n",
    "results = soup.find_all('li', class_='slide')\n",
    "\n",
    "# Print first news item\n",
    "#results[0]"
   ]
  },
  {
   "cell_type": "code",
   "execution_count": null,
   "metadata": {},
   "outputs": [],
   "source": [
    "# Get the header and paragraph text from the first news item\n",
    "news_paragraph = results[0].find('div', class_='article_teaser_body').text\n",
    "news_header = results[0].find('h3').text\n",
    "\n",
    "# Print header and paragraph for first news item\n",
    "print(news_paragraph)\n",
    "print(news_header)"
   ]
  },
  {
   "cell_type": "code",
   "execution_count": null,
   "metadata": {
    "collapsed": true
   },
   "outputs": [],
   "source": [
    "# Close and exit browser session\n",
    "browser.quit()"
   ]
  },
  {
   "cell_type": "markdown",
   "metadata": {},
   "source": [
    "<h1>JPL Mars Space Images - Featured Image"
   ]
  },
  {
   "cell_type": "code",
   "execution_count": null,
   "metadata": {
    "collapsed": true
   },
   "outputs": [],
   "source": [
    "# URL for featured image of Mars\n",
    "jpl_image_url = 'https://www.jpl.nasa.gov/spaceimages/?search=&category=Mars'\n",
    "\n",
    "# Retrieve page with the requests module\n",
    "response = requests.get(jpl_image_url)\n",
    "\n",
    "# Create BeautifulSoup object; parse with 'lxml'\n",
    "soup = BeautifulSoup(response.text, 'lxml')"
   ]
  },
  {
   "cell_type": "code",
   "execution_count": null,
   "metadata": {},
   "outputs": [],
   "source": [
    "# Pretty print soup results\n",
    "#print(soup.prettify())"
   ]
  },
  {
   "cell_type": "code",
   "execution_count": null,
   "metadata": {
    "collapsed": true
   },
   "outputs": [],
   "source": [
    "# Retrieve the item that has the url for featured image\n",
    "results = soup.find_all('a', class_='button fancybox')"
   ]
  },
  {
   "cell_type": "code",
   "execution_count": null,
   "metadata": {},
   "outputs": [],
   "source": [
    "# Get url for featured image\n",
    "featured_image_url = 'https://www.jpl.nasa.gov'+results[0]['data-fancybox-href']\n",
    "featured_image_url"
   ]
  },
  {
   "cell_type": "markdown",
   "metadata": {},
   "source": [
    "<h1>Mars Weather (Twitter)"
   ]
  },
  {
   "cell_type": "code",
   "execution_count": null,
   "metadata": {
    "collapsed": true
   },
   "outputs": [],
   "source": [
    "# URL for Mars weather twitter account\n",
    "mars_twitter_url = 'https://twitter.com/marswxreport'\n",
    "\n",
    "# Retrieve page with the requests module\n",
    "response = requests.get(mars_twitter_url)\n",
    "\n",
    "# Create BeautifulSoup object; parse with 'lxml'\n",
    "soup = BeautifulSoup(response.text, 'lxml')"
   ]
  },
  {
   "cell_type": "code",
   "execution_count": null,
   "metadata": {},
   "outputs": [],
   "source": [
    "# Pretty print soup results\n",
    "#print(soup.prettify())"
   ]
  },
  {
   "cell_type": "code",
   "execution_count": null,
   "metadata": {},
   "outputs": [],
   "source": [
    "# Retrieve parent item of tweets\n",
    "results = soup.find_all('div', class_='js-tweet-text-container')\n",
    "\n",
    "# Store first tweet\n",
    "mars_weather = results[0].find('p').text\n",
    "mars_weather"
   ]
  },
  {
   "cell_type": "markdown",
   "metadata": {},
   "source": [
    "<h1>Mars Facts"
   ]
  },
  {
   "cell_type": "code",
   "execution_count": null,
   "metadata": {},
   "outputs": [],
   "source": [
    "# url for Mars facts\n",
    "mars_facts_url = \"https://space-facts.com/mars\"\n",
    "\n",
    "# Read table from url using pandas\n",
    "tables = pd.read_html(mars_facts_url)\n",
    "\n",
    "# Print table\n",
    "#tables[0]"
   ]
  },
  {
   "cell_type": "code",
   "execution_count": null,
   "metadata": {},
   "outputs": [],
   "source": [
    "# Convert table to HTML\n",
    "mars_table_html = tables[0].to_html()"
   ]
  },
  {
   "cell_type": "code",
   "execution_count": null,
   "metadata": {},
   "outputs": [],
   "source": [
    "# Remove \\n from string\n",
    "mars_table_html = mars_table_html.replace('\\n', '')\n",
    "mars_table_html"
   ]
  },
  {
   "cell_type": "code",
   "execution_count": null,
   "metadata": {
    "collapsed": true
   },
   "outputs": [],
   "source": [
    "# Save table as HTML file\n",
    "# df.to_html('table.html')"
   ]
  },
  {
   "cell_type": "markdown",
   "metadata": {},
   "source": [
    "<h1>Mars Hemispheres"
   ]
  },
  {
   "cell_type": "code",
   "execution_count": null,
   "metadata": {},
   "outputs": [],
   "source": [
    "# url to search for Mars hemisphere images\n",
    "mars_hemi_url = 'https://astrogeology.usgs.gov/search/results?q=hemisphere+enhanced&k1=target&v1=Mars'\n",
    "\n",
    "# Retrieve page with requests module\n",
    "response = requests.get(mars_hemi_url)\n",
    "\n",
    "# Convert to BeautifulSoup object and parse with lxml\n",
    "soup = BeautifulSoup(response.text, 'lxml')"
   ]
  },
  {
   "cell_type": "code",
   "execution_count": null,
   "metadata": {},
   "outputs": [],
   "source": [
    "# Pretty print soup\n",
    "#print(soup.prettify())"
   ]
  },
  {
   "cell_type": "code",
   "execution_count": null,
   "metadata": {},
   "outputs": [],
   "source": [
    "# Retrieve parent item that has the search results\n",
    "results = soup.find_all('div', class_='item')"
   ]
  },
  {
   "cell_type": "code",
   "execution_count": null,
   "metadata": {},
   "outputs": [],
   "source": [
    "# Create empty list to store image titles and urls\n",
    "hemispheres_image_urls = []\n",
    "\n",
    "# Loop through the search results\n",
    "for result in results:\n",
    "    \n",
    "    # Create an empty dictionary to store image title and url\n",
    "    img_dict = {}\n",
    "    \n",
    "    # Find the text from the h3 tag\n",
    "    title = result.find('h3').text\n",
    "    \n",
    "    # Strip out unwanted words\n",
    "    title = title.replace(' Enhanced', '')\n",
    "    \n",
    "    # Add title to dictionary\n",
    "    img_dict['title'] = title\n",
    "    \n",
    "    # Find the link to the image\n",
    "    link = result.find('a')['href']\n",
    "    \n",
    "    # Add in https... to link to create full url\n",
    "    full_link = 'https://astrogeology.usgs.gov' + link\n",
    "    \n",
    "    # Retrieve page using requests module\n",
    "    img_response = requests.get(full_link)\n",
    "    \n",
    "    # Convert to BeautifulSoup object and parse using lxml\n",
    "    img_soup = BeautifulSoup(img_response.text, 'lxml')\n",
    "    \n",
    "    # Find all div items that has the url information\n",
    "    img_results = img_soup.find_all('div', class_='downloads')\n",
    "    \n",
    "    # Find url in first result\n",
    "    img_url = img_results[0].find_all('a')[0]['href']\n",
    "    \n",
    "    # Add url to dictionary\n",
    "    img_dict['img_url'] = img_url\n",
    "    \n",
    "    # Append dictionary to list\n",
    "    hemispheres_image_urls.append(img_dict)\n",
    "\n",
    "# Print out final list    \n",
    "hemispheres_image_urls"
   ]
  },
  {
   "cell_type": "code",
   "execution_count": null,
   "metadata": {
    "collapsed": true
   },
   "outputs": [],
   "source": []
  }
 ],
 "metadata": {
  "kernelspec": {
   "display_name": "Python 3",
   "language": "python",
   "name": "python3"
  },
  "language_info": {
   "codemirror_mode": {
    "name": "ipython",
    "version": 3
   },
   "file_extension": ".py",
   "mimetype": "text/x-python",
   "name": "python",
   "nbconvert_exporter": "python",
   "pygments_lexer": "ipython3",
   "version": "3.6.3"
  }
 },
 "nbformat": 4,
 "nbformat_minor": 2
}
